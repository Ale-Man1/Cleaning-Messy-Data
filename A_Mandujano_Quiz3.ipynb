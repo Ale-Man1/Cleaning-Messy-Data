{
  "nbformat": 4,
  "nbformat_minor": 0,
  "metadata": {
    "colab": {
      "name": "Cleaning “Messy” Data .ipynb",
      "provenance": [],
      "collapsed_sections": []
    },
    "kernelspec": {
      "name": "python3",
      "display_name": "Python 3"
    },
    "language_info": {
      "name": "python"
    }
  },
  "cells": [
    {
      "cell_type": "markdown",
      "source": [
        "# Cleaning “Messy” Data"
      ],
      "metadata": {
        "id": "GCW-zU8jMvl-"
      }
    },
    {
      "cell_type": "markdown",
      "source": [
        "## Introduction:"
      ],
      "metadata": {
        "id": "-OTjy1ASlAFz"
      }
    },
    {
      "cell_type": "markdown",
      "source": [
        "The data has several several integrity and usability issues, the data will be explored and cleaned to bring it up to a usable standard."
      ],
      "metadata": {
        "id": "UztuDk-IlCJA"
      }
    },
    {
      "cell_type": "code",
      "source": [
        "import numpy as np\n",
        "import pandas as pd\n",
        "import seaborn as sns\n",
        "\n",
        "df = pd.read_csv(\"https://raw.githubusercontent.com/MatthewFried/Udemy/master/Day2/Day2_Data.csv\")\n",
        "df.index += 1\n",
        "pd.set_option('display.max_columns', None)\n",
        "print(df)\n",
        "df.describe()\n",
        "df.dtypes"
      ],
      "metadata": {
        "colab": {
          "base_uri": "https://localhost:8080/"
        },
        "id": "-78SvNqkZ9q0",
        "outputId": "9d8a4c46-5190-4453-edeb-c8d837ef72d9"
      },
      "execution_count": null,
      "outputs": [
        {
          "output_type": "stream",
          "name": "stdout",
          "text": [
            "       INDEX  TARGET  FixedAcidity  VolatileAcidity  CitricAcid  \\\n",
            "1          1       3           3.2            1.160       -0.98   \n",
            "2          2       3           4.5            0.160       -0.81   \n",
            "3          4       5           7.1            2.640       -0.88   \n",
            "4          5       3           5.7            0.385        0.04   \n",
            "5          6       4           8.0            0.330       -1.26   \n",
            "...      ...     ...           ...              ...         ...   \n",
            "12791  16120       0           5.0           -0.790        2.01   \n",
            "12792  16123       5           8.9            0.470        0.29   \n",
            "12793  16127       4           6.0            0.170       -1.10   \n",
            "12794  16128       3           7.7            0.320        0.12   \n",
            "12795  16129       4           5.2           -0.040       -0.81   \n",
            "\n",
            "       ResidualSugar  Chlorides  FreeSulfurDioxide  TotalSulfurDioxide  \\\n",
            "1               54.2     -0.567                NaN               268.0   \n",
            "2               26.1     -0.425               15.0              -327.0   \n",
            "3               14.8      0.037              214.0               142.0   \n",
            "4               18.8     -0.425               22.0               115.0   \n",
            "5                9.4        NaN             -167.0               108.0   \n",
            "...              ...        ...                ...                 ...   \n",
            "12791            5.0      0.043               17.0               101.0   \n",
            "12792           84.9      0.259               54.0                 NaN   \n",
            "12793           37.0      0.078               25.0               108.0   \n",
            "12794            NaN      0.029               26.0               274.0   \n",
            "12795           52.7        NaN             -106.0               242.0   \n",
            "\n",
            "       Density    pH  Sulphates  Alcohol  LabelAppeal  AcidIndex  STARS  \n",
            "1      0.99280  3.33      -0.59      9.9            0          8    2.0  \n",
            "2      1.02792  3.38       0.70      NaN           -1          7    3.0  \n",
            "3      0.99518  3.12       0.48     22.0           -1          8    3.0  \n",
            "4      0.99640  2.24       1.83      6.2           -1          6    1.0  \n",
            "5      0.99457  3.12       1.77     13.7            0          9    2.0  \n",
            "...        ...   ...        ...      ...          ...        ...    ...  \n",
            "12791  1.01077  3.39       0.57      4.9            1          5    NaN  \n",
            "12792  0.99518  4.46      -1.20      NaN           -1          8    2.0  \n",
            "12793  0.99076  3.25        NaN     12.3            0          6    2.0  \n",
            "12794  0.99060  3.97       0.62     11.0           -1          6    2.0  \n",
            "12795  0.99454  3.94      -0.12      9.9            0          7    2.0  \n",
            "\n",
            "[12795 rows x 16 columns]\n"
          ]
        },
        {
          "output_type": "execute_result",
          "data": {
            "text/plain": [
              "INDEX                   int64\n",
              "TARGET                  int64\n",
              "FixedAcidity          float64\n",
              "VolatileAcidity       float64\n",
              "CitricAcid            float64\n",
              "ResidualSugar         float64\n",
              "Chlorides             float64\n",
              "FreeSulfurDioxide     float64\n",
              "TotalSulfurDioxide    float64\n",
              "Density               float64\n",
              "pH                    float64\n",
              "Sulphates             float64\n",
              "Alcohol               float64\n",
              "LabelAppeal             int64\n",
              "AcidIndex               int64\n",
              "STARS                 float64\n",
              "dtype: object"
            ]
          },
          "metadata": {},
          "execution_count": 10
        }
      ]
    },
    {
      "cell_type": "markdown",
      "source": [
        "## EDA"
      ],
      "metadata": {
        "id": "TU-3lva8M0sw"
      }
    },
    {
      "cell_type": "markdown",
      "source": [
        "### Attribute 1: Target"
      ],
      "metadata": {
        "id": "WHJYGiU4NP4P"
      }
    },
    {
      "cell_type": "code",
      "source": [
        "plt1_sns = sns.histplot(data=df, x=\"TARGET\").set(title='Target') # Graph for EDA\n",
        "plt1_sns;\n",
        "print(df[\"TARGET\"].describe()) # Describe to show stats"
      ],
      "metadata": {
        "colab": {
          "base_uri": "https://localhost:8080/",
          "height": 451
        },
        "id": "7MgaFiRZNTPx",
        "outputId": "d9a37693-9c3e-4a9a-973b-8b67958dc6aa"
      },
      "execution_count": null,
      "outputs": [
        {
          "output_type": "stream",
          "name": "stdout",
          "text": [
            "count    12795.000000\n",
            "mean         3.029074\n",
            "std          1.926368\n",
            "min          0.000000\n",
            "25%          2.000000\n",
            "50%          3.000000\n",
            "75%          4.000000\n",
            "max          8.000000\n",
            "Name: TARGET, dtype: float64\n"
          ]
        },
        {
          "output_type": "display_data",
          "data": {
            "text/plain": [
              "<Figure size 432x288 with 1 Axes>"
            ],
            "image/png": "[encoded data removed]"
          },
          "metadata": {
            "needs_background": "light"
          }
        }
      ]
    },
    {
      "cell_type": "markdown",
      "source": [
        "### Attribute 2: Fixed Acidity"
      ],
      "metadata": {
        "id": "aBAUrUgMQTbI"
      }
    },
    {
      "cell_type": "code",
      "source": [
        "plt2_sns = sns.histplot(data=df, x=\"FixedAcidity\").set(title='Fixed Acidity') # Graph for EDA\n",
        "plt2_sns;\n",
        "print(df[\"FixedAcidity\"].describe()) # Describe to show stats"
      ],
      "metadata": {
        "colab": {
          "base_uri": "https://localhost:8080/",
          "height": 451
        },
        "id": "gTw46eGGQdNa",
        "outputId": "525654e4-fe9f-4631-e172-35bb0034fff7"
      },
      "execution_count": null,
      "outputs": [
        {
          "output_type": "stream",
          "name": "stdout",
          "text": [
            "count    12795.000000\n",
            "mean         7.075717\n",
            "std          6.317643\n",
            "min        -18.100000\n",
            "25%          5.200000\n",
            "50%          6.900000\n",
            "75%          9.500000\n",
            "max         34.400000\n",
            "Name: FixedAcidity, dtype: float64\n"
          ]
        },
        {
          "output_type": "display_data",
          "data": {
            "text/plain": [
              "<Figure size 432x288 with 1 Axes>"
            ],
            "image/png": "[encoded data removed]"
          },
          "metadata": {
            "needs_background": "light"
          }
        }
      ]
    },
    {
      "cell_type": "markdown",
      "source": [
        "### Attribute 3: Volatile Acidity"
      ],
      "metadata": {
        "id": "7a0A6XsJQtTo"
      }
    },
    {
      "cell_type": "code",
      "source": [
        "plt3_sns = sns.histplot(data=df, x=\"VolatileAcidity\").set(title='Volatile Acidity') # Graph for EDA\n",
        "plt3_sns;\n",
        "print(df[\"VolatileAcidity\"].describe()) # Describe to show stats"
      ],
      "metadata": {
        "colab": {
          "base_uri": "https://localhost:8080/",
          "height": 451
        },
        "id": "uZdDMnf9QzXf",
        "outputId": "d121aef7-d3d7-4817-a58c-36f1507d8faa"
      },
      "execution_count": null,
      "outputs": [
        {
          "output_type": "stream",
          "name": "stdout",
          "text": [
            "count    12795.000000\n",
            "mean         0.324104\n",
            "std          0.784014\n",
            "min         -2.790000\n",
            "25%          0.130000\n",
            "50%          0.280000\n",
            "75%          0.640000\n",
            "max          3.680000\n",
            "Name: VolatileAcidity, dtype: float64\n"
          ]
        },
        {
          "output_type": "display_data",
          "data": {
            "text/plain": [
              "<Figure size 432x288 with 1 Axes>"
            ],
            "image/png": "[encoded data removed]"
          },
          "metadata": {
            "needs_background": "light"
          }
        }
      ]
    },
    {
      "cell_type": "markdown",
      "source": [
        "### Attribute 4: Citric Acid"
      ],
      "metadata": {
        "id": "9U5KhU34Q-zr"
      }
    },
    {
      "cell_type": "code",
      "source": [
        "plt4_sns = sns.histplot(data=df, x=\"CitricAcid\").set(title='Citric Acid') # Graph for EDA\n",
        "plt4_sns;\n",
        "print(df[\"CitricAcid\"].describe()) # Describe to show stats"
      ],
      "metadata": {
        "colab": {
          "base_uri": "https://localhost:8080/",
          "height": 451
        },
        "id": "f4jv0hVpRDPR",
        "outputId": "aea9d346-9215-411f-ece1-cc173e60c523"
      },
      "execution_count": null,
      "outputs": [
        {
          "output_type": "stream",
          "name": "stdout",
          "text": [
            "count    12795.000000\n",
            "mean         0.308413\n",
            "std          0.862080\n",
            "min         -3.240000\n",
            "25%          0.030000\n",
            "50%          0.310000\n",
            "75%          0.580000\n",
            "max          3.860000\n",
            "Name: CitricAcid, dtype: float64\n"
          ]
        },
        {
          "output_type": "display_data",
          "data": {
            "text/plain": [
              "<Figure size 432x288 with 1 Axes>"
            ],
            "image/png": "[encoded data removed]"
          },
          "metadata": {
            "needs_background": "light"
          }
        }
      ]
    },
    {
      "cell_type": "markdown",
      "source": [
        "### Attribute 5: Residual Sugar"
      ],
      "metadata": {
        "id": "QaGm8RBARP9K"
      }
    },
    {
      "cell_type": "code",
      "source": [
        "plt5_sns = sns.histplot(data=df, x=\"ResidualSugar\").set(title='Residual Sugar') # Graph for EDA\n",
        "plt5_sns;\n",
        "print(df[\"ResidualSugar\"].describe()) # Describe to show stats"
      ],
      "metadata": {
        "colab": {
          "base_uri": "https://localhost:8080/",
          "height": 451
        },
        "id": "Yw8CSlS8RUiQ",
        "outputId": "0ced5987-c9c1-42fb-86cd-613ad307eeb6"
      },
      "execution_count": null,
      "outputs": [
        {
          "output_type": "stream",
          "name": "stdout",
          "text": [
            "count    12179.000000\n",
            "mean         5.418733\n",
            "std         33.749379\n",
            "min       -127.800000\n",
            "25%         -2.000000\n",
            "50%          3.900000\n",
            "75%         15.900000\n",
            "max        141.150000\n",
            "Name: ResidualSugar, dtype: float64\n"
          ]
        },
        {
          "output_type": "display_data",
          "data": {
            "text/plain": [
              "<Figure size 432x288 with 1 Axes>"
            ],
            "image/png": "[encoded data removed]"
          },
          "metadata": {
            "needs_background": "light"
          }
        }
      ]
    },
    {
      "cell_type": "markdown",
      "source": [
        "### Attribute 6: Chlorides"
      ],
      "metadata": {
        "id": "QhV0SydTRfw4"
      }
    },
    {
      "cell_type": "code",
      "source": [
        "plt6_sns = sns.histplot(data=df, x=\"Chlorides\").set(title='Chlorides') # Graph for EDA\n",
        "plt6_sns;\n",
        "print(df[\"Chlorides\"].describe()) # Describe to show stats"
      ],
      "metadata": {
        "colab": {
          "base_uri": "https://localhost:8080/",
          "height": 451
        },
        "id": "kapbmqA7RjC2",
        "outputId": "7e3016c2-3a1e-46b6-da86-14df6c1b61e0"
      },
      "execution_count": null,
      "outputs": [
        {
          "output_type": "stream",
          "name": "stdout",
          "text": [
            "count    12157.000000\n",
            "mean         0.054822\n",
            "std          0.318467\n",
            "min         -1.171000\n",
            "25%         -0.031000\n",
            "50%          0.046000\n",
            "75%          0.153000\n",
            "max          1.351000\n",
            "Name: Chlorides, dtype: float64\n"
          ]
        },
        {
          "output_type": "display_data",
          "data": {
            "text/plain": [
              "<Figure size 432x288 with 1 Axes>"
            ],
            "image/png": "[encoded data removed]"
          },
          "metadata": {
            "needs_background": "light"
          }
        }
      ]
    },
    {
      "cell_type": "markdown",
      "source": [
        "### Attribute 7: Free Sulfur Dioxide"
      ],
      "metadata": {
        "id": "89gFgqIrRqIb"
      }
    },
    {
      "cell_type": "code",
      "source": [
        "plt7_sns = sns.histplot(data=df, x=\"FreeSulfurDioxide\").set(title='Free Sulfur Dioxide') # Graph for EDA\n",
        "plt7_sns;\n",
        "print(df[\"FreeSulfurDioxide\"].describe()) # Describe to show stats"
      ],
      "metadata": {
        "colab": {
          "base_uri": "https://localhost:8080/",
          "height": 451
        },
        "id": "qtPefkiSRu3h",
        "outputId": "20774e96-f340-49d1-ab4b-f7cf2bf439ed"
      },
      "execution_count": null,
      "outputs": [
        {
          "output_type": "stream",
          "name": "stdout",
          "text": [
            "count    12148.000000\n",
            "mean        30.845571\n",
            "std        148.714558\n",
            "min       -555.000000\n",
            "25%          0.000000\n",
            "50%         30.000000\n",
            "75%         70.000000\n",
            "max        623.000000\n",
            "Name: FreeSulfurDioxide, dtype: float64\n"
          ]
        },
        {
          "output_type": "display_data",
          "data": {
            "text/plain": [
              "<Figure size 432x288 with 1 Axes>"
            ],
            "image/png": "[encoded data removed]"
          },
          "metadata": {
            "needs_background": "light"
          }
        }
      ]
    },
    {
      "cell_type": "markdown",
      "source": [
        "### Attribute 8: Total Sulfur Dioxide"
      ],
      "metadata": {
        "id": "BRo-5bMUR4As"
      }
    },
    {
      "cell_type": "code",
      "source": [
        "plt8_sns = sns.histplot(data=df, x=\"TotalSulfurDioxide\").set(title='Total Sulfur Dioxide') # Graph for EDA\n",
        "plt8_sns;\n",
        "print(df[\"TotalSulfurDioxide\"].describe()) # Describe to show stats"
      ],
      "metadata": {
        "colab": {
          "base_uri": "https://localhost:8080/",
          "height": 451
        },
        "id": "kqPNOohWR-BI",
        "outputId": "f0d650e6-bfdf-401e-9103-543a3c3dcf23"
      },
      "execution_count": null,
      "outputs": [
        {
          "output_type": "stream",
          "name": "stdout",
          "text": [
            "count    12113.000000\n",
            "mean       120.714233\n",
            "std        231.913211\n",
            "min       -823.000000\n",
            "25%         27.000000\n",
            "50%        123.000000\n",
            "75%        208.000000\n",
            "max       1057.000000\n",
            "Name: TotalSulfurDioxide, dtype: float64\n"
          ]
        },
        {
          "output_type": "display_data",
          "data": {
            "text/plain": [
              "<Figure size 432x288 with 1 Axes>"
            ],
            "image/png": "[encoded data removed]"
          },
          "metadata": {
            "needs_background": "light"
          }
        }
      ]
    },
    {
      "cell_type": "markdown",
      "source": [
        "### Attribute 9: Density"
      ],
      "metadata": {
        "id": "06VWfrYVSGJr"
      }
    },
    {
      "cell_type": "code",
      "source": [
        "plt9_sns = sns.histplot(data=df, x=\"Density\").set(title='Density') # Graph for EDA\n",
        "plt9_sns;\n",
        "print(df[\"Density\"].describe()) # Describe to show stats"
      ],
      "metadata": {
        "colab": {
          "base_uri": "https://localhost:8080/",
          "height": 451
        },
        "id": "7nmVBPamSYAv",
        "outputId": "06a8e172-915f-4f81-9b28-8838a820f4ba"
      },
      "execution_count": null,
      "outputs": [
        {
          "output_type": "stream",
          "name": "stdout",
          "text": [
            "count    12795.000000\n",
            "mean         0.994203\n",
            "std          0.026538\n",
            "min          0.888090\n",
            "25%          0.987720\n",
            "50%          0.994490\n",
            "75%          1.000515\n",
            "max          1.099240\n",
            "Name: Density, dtype: float64\n"
          ]
        },
        {
          "output_type": "display_data",
          "data": {
            "text/plain": [
              "<Figure size 432x288 with 1 Axes>"
            ],
            "image/png": "[encoded data removed]"
          },
          "metadata": {
            "needs_background": "light"
          }
        }
      ]
    },
    {
      "cell_type": "markdown",
      "source": [
        "### Attribute 10: pH"
      ],
      "metadata": {
        "id": "dPULuOj7Sf3D"
      }
    },
    {
      "cell_type": "code",
      "source": [
        "plt10_sns = sns.histplot(data=df, x=\"pH\").set(title='pH') # Graph for EDA\n",
        "plt10_sns;\n",
        "print(df[\"pH\"].describe()) # Describe to show stats"
      ],
      "metadata": {
        "colab": {
          "base_uri": "https://localhost:8080/",
          "height": 451
        },
        "id": "MOCEDNhbSkgw",
        "outputId": "d7c2a4cc-3751-420b-99d8-2e0e25854882"
      },
      "execution_count": null,
      "outputs": [
        {
          "output_type": "stream",
          "name": "stdout",
          "text": [
            "count    12400.000000\n",
            "mean         3.207628\n",
            "std          0.679687\n",
            "min          0.480000\n",
            "25%          2.960000\n",
            "50%          3.200000\n",
            "75%          3.470000\n",
            "max          6.130000\n",
            "Name: pH, dtype: float64\n"
          ]
        },
        {
          "output_type": "display_data",
          "data": {
            "text/plain": [
              "<Figure size 432x288 with 1 Axes>"
            ],
            "image/png": "[encoded data removed]"
          },
          "metadata": {
            "needs_background": "light"
          }
        }
      ]
    },
    {
      "cell_type": "markdown",
      "source": [
        "### Attribute 11: Sulphates"
      ],
      "metadata": {
        "id": "IaBhRu44SshK"
      }
    },
    {
      "cell_type": "code",
      "source": [
        "plt11_sns = sns.histplot(data=df, x=\"Sulphates\").set(title='Sulphates') # Graph for EDA\n",
        "plt11_sns;\n",
        "print(df[\"Sulphates\"].describe()) # Describe to show stats"
      ],
      "metadata": {
        "colab": {
          "base_uri": "https://localhost:8080/",
          "height": 451
        },
        "id": "cLkhnP4nS1Cq",
        "outputId": "12f0cfbe-2850-4ba9-f5ea-cb72649ba07c"
      },
      "execution_count": null,
      "outputs": [
        {
          "output_type": "stream",
          "name": "stdout",
          "text": [
            "count    11585.000000\n",
            "mean         0.527112\n",
            "std          0.932129\n",
            "min         -3.130000\n",
            "25%          0.280000\n",
            "50%          0.500000\n",
            "75%          0.860000\n",
            "max          4.240000\n",
            "Name: Sulphates, dtype: float64\n"
          ]
        },
        {
          "output_type": "display_data",
          "data": {
            "text/plain": [
              "<Figure size 432x288 with 1 Axes>"
            ],
            "image/png": "[encoded data removed]"
          },
          "metadata": {
            "needs_background": "light"
          }
        }
      ]
    },
    {
      "cell_type": "markdown",
      "source": [
        "### Attribute 12: Alcohol"
      ],
      "metadata": {
        "id": "Hsl8lv0QS5gz"
      }
    },
    {
      "cell_type": "code",
      "source": [
        "plt12_sns = sns.histplot(data=df, x=\"Alcohol\").set(title='Alcohol') # Graph for EDA\n",
        "plt12_sns;\n",
        "print(df[\"Alcohol\"].describe()) # Describe to show stats"
      ],
      "metadata": {
        "colab": {
          "base_uri": "https://localhost:8080/",
          "height": 451
        },
        "id": "QQworXDSS_ja",
        "outputId": "2b3fbb4e-a5e7-4148-cf88-649f7b5e55bc"
      },
      "execution_count": null,
      "outputs": [
        {
          "output_type": "stream",
          "name": "stdout",
          "text": [
            "count    12142.000000\n",
            "mean        10.489236\n",
            "std          3.727819\n",
            "min         -4.700000\n",
            "25%          9.000000\n",
            "50%         10.400000\n",
            "75%         12.400000\n",
            "max         26.500000\n",
            "Name: Alcohol, dtype: float64\n"
          ]
        },
        {
          "output_type": "display_data",
          "data": {
            "text/plain": [
              "<Figure size 432x288 with 1 Axes>"
            ],
            "image/png": "[encoded data removed]"
          },
          "metadata": {
            "needs_background": "light"
          }
        }
      ]
    },
    {
      "cell_type": "markdown",
      "source": [
        "### Attribute 13: Label Appeal"
      ],
      "metadata": {
        "id": "ArG1U_HGTO1p"
      }
    },
    {
      "cell_type": "code",
      "source": [
        "plt13_sns = sns.histplot(data=df, x=\"LabelAppeal\").set(title='Label Appeal') # Graph for EDA\n",
        "plt13_sns;\n",
        "print(df[\"LabelAppeal\"].describe()) # Describe to show stats"
      ],
      "metadata": {
        "colab": {
          "base_uri": "https://localhost:8080/",
          "height": 451
        },
        "id": "iqP9l1l8TTJy",
        "outputId": "ffa78461-c2e8-48db-a16e-33939df9d652"
      },
      "execution_count": null,
      "outputs": [
        {
          "output_type": "stream",
          "name": "stdout",
          "text": [
            "count    12795.000000\n",
            "mean        -0.009066\n",
            "std          0.891089\n",
            "min         -2.000000\n",
            "25%         -1.000000\n",
            "50%          0.000000\n",
            "75%          1.000000\n",
            "max          2.000000\n",
            "Name: LabelAppeal, dtype: float64\n"
          ]
        },
        {
          "output_type": "display_data",
          "data": {
            "text/plain": [
              "<Figure size 432x288 with 1 Axes>"
            ],
            "image/png": "[encoded data removed]"
          },
          "metadata": {
            "needs_background": "light"
          }
        }
      ]
    },
    {
      "cell_type": "markdown",
      "source": [
        "### Attribute 14: Acid Index"
      ],
      "metadata": {
        "id": "A5t7uO3YTfzX"
      }
    },
    {
      "cell_type": "code",
      "source": [
        "plt14_sns = sns.histplot(data=df, x=\"AcidIndex\").set(title='Acid Index') # Graph for EDA\n",
        "plt14_sns;\n",
        "print(df[\"AcidIndex\"].describe()) # Describe to show stats"
      ],
      "metadata": {
        "colab": {
          "base_uri": "https://localhost:8080/",
          "height": 451
        },
        "id": "HXCB12rbTpJS",
        "outputId": "256c7d1d-62ba-4349-aec2-44cd5ae20bcc"
      },
      "execution_count": null,
      "outputs": [
        {
          "output_type": "stream",
          "name": "stdout",
          "text": [
            "count    12795.000000\n",
            "mean         7.772724\n",
            "std          1.323926\n",
            "min          4.000000\n",
            "25%          7.000000\n",
            "50%          8.000000\n",
            "75%          8.000000\n",
            "max         17.000000\n",
            "Name: AcidIndex, dtype: float64\n"
          ]
        },
        {
          "output_type": "display_data",
          "data": {
            "text/plain": [
              "<Figure size 432x288 with 1 Axes>"
            ],
            "image/png": "[encoded data removed]"
          },
          "metadata": {
            "needs_background": "light"
          }
        }
      ]
    },
    {
      "cell_type": "markdown",
      "source": [
        "### Attribute 15: STARS"
      ],
      "metadata": {
        "id": "Yy7YGtFZTx99"
      }
    },
    {
      "cell_type": "code",
      "source": [
        "plt15_sns = sns.histplot(data=df, x=\"STARS\").set(title='STARS') # Graph for EDA\n",
        "plt15_sns;\n",
        "print(df[\"STARS\"].describe()) # Describe to show stats"
      ],
      "metadata": {
        "colab": {
          "base_uri": "https://localhost:8080/",
          "height": 451
        },
        "id": "LX_I9AHGT4oc",
        "outputId": "a910b473-88bb-4598-f2ba-d13532b8e0b3"
      },
      "execution_count": null,
      "outputs": [
        {
          "output_type": "stream",
          "name": "stdout",
          "text": [
            "count    9436.000000\n",
            "mean        2.041755\n",
            "std         0.902540\n",
            "min         1.000000\n",
            "25%         1.000000\n",
            "50%         2.000000\n",
            "75%         3.000000\n",
            "max         4.000000\n",
            "Name: STARS, dtype: float64\n"
          ]
        },
        {
          "output_type": "display_data",
          "data": {
            "text/plain": [
              "<Figure size 432x288 with 1 Axes>"
            ],
            "image/png": "[encoded data removed]"
          },
          "metadata": {
            "needs_background": "light"
          }
        }
      ]
    }
  ]
}